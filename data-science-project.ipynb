{
 "cells": [
  {
   "cell_type": "markdown",
   "id": "4627880b",
   "metadata": {
    "papermill": {
     "duration": 0.002161,
     "end_time": "2024-04-19T16:10:34.506818",
     "exception": false,
     "start_time": "2024-04-19T16:10:34.504657",
     "status": "completed"
    },
    "tags": []
   },
   "source": [
    "# **Data Science Project**"
   ]
  },
  {
   "cell_type": "code",
   "execution_count": null,
   "id": "84854452",
   "metadata": {
    "papermill": {
     "duration": 0.00128,
     "end_time": "2024-04-19T16:10:34.509867",
     "exception": false,
     "start_time": "2024-04-19T16:10:34.508587",
     "status": "completed"
    },
    "tags": []
   },
   "outputs": [],
   "source": []
  }
 ],
 "metadata": {
  "kaggle": {
   "accelerator": "nvidiaTeslaT4",
   "dataSources": [],
   "dockerImageVersionId": 30699,
   "isGpuEnabled": true,
   "isInternetEnabled": false,
   "language": "python",
   "sourceType": "notebook"
  },
  "kernelspec": {
   "display_name": "Python 3",
   "language": "python",
   "name": "python3"
  },
  "language_info": {
   "codemirror_mode": {
    "name": "ipython",
    "version": 3
   },
   "file_extension": ".py",
   "mimetype": "text/x-python",
   "name": "python",
   "nbconvert_exporter": "python",
   "pygments_lexer": "ipython3",
   "version": "3.10.13"
  },
  "papermill": {
   "default_parameters": {},
   "duration": 3.30804,
   "end_time": "2024-04-19T16:10:34.831520",
   "environment_variables": {},
   "exception": null,
   "input_path": "__notebook__.ipynb",
   "output_path": "__notebook__.ipynb",
   "parameters": {},
   "start_time": "2024-04-19T16:10:31.523480",
   "version": "2.5.0"
  }
 },
 "nbformat": 4,
 "nbformat_minor": 5
}
